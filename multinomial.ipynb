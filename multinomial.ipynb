{
 "cells": [
  {
   "cell_type": "code",
   "execution_count": 107,
   "metadata": {},
   "outputs": [],
   "source": [
    "import pandas as pd\n",
    "from colorama import Fore\n",
    "import seaborn as sns\n",
    "import matplotlib.pyplot as plt\n",
    "%matplotlib inline\n",
    "from sklearn.naive_bayes import MultinomialNB\n",
    "from sklearn.model_selection import train_test_split"
   ]
  },
  {
   "cell_type": "code",
   "execution_count": 108,
   "metadata": {},
   "outputs": [],
   "source": [
    "data = pd.read_csv('data_pivoted.csv')"
   ]
  },
  {
   "cell_type": "code",
   "execution_count": 109,
   "metadata": {},
   "outputs": [
    {
     "name": "stdout",
     "output_type": "stream",
     "text": [
      "(65, 317)\n"
     ]
    },
    {
     "data": {
      "text/html": [
       "<div>\n",
       "<style scoped>\n",
       "    .dataframe tbody tr th:only-of-type {\n",
       "        vertical-align: middle;\n",
       "    }\n",
       "\n",
       "    .dataframe tbody tr th {\n",
       "        vertical-align: top;\n",
       "    }\n",
       "\n",
       "    .dataframe thead th {\n",
       "        text-align: right;\n",
       "    }\n",
       "</style>\n",
       "<table border=\"1\" class=\"dataframe\">\n",
       "  <thead>\n",
       "    <tr style=\"text-align: right;\">\n",
       "      <th></th>\n",
       "      <th>disease</th>\n",
       "      <th>abdomen acute</th>\n",
       "      <th>abdominal tenderness</th>\n",
       "      <th>abnormally hard consistency</th>\n",
       "      <th>abortion</th>\n",
       "      <th>abscess bacterial</th>\n",
       "      <th>absences finding</th>\n",
       "      <th>achalasia</th>\n",
       "      <th>agitation</th>\n",
       "      <th>air fluid level</th>\n",
       "      <th>...</th>\n",
       "      <th>vision blurred</th>\n",
       "      <th>vomiting</th>\n",
       "      <th>weepiness</th>\n",
       "      <th>weight gain</th>\n",
       "      <th>welt</th>\n",
       "      <th>wheelchair bound</th>\n",
       "      <th>wheezing</th>\n",
       "      <th>withdraw</th>\n",
       "      <th>worry</th>\n",
       "      <th>yellow sputum</th>\n",
       "    </tr>\n",
       "  </thead>\n",
       "  <tbody>\n",
       "    <tr>\n",
       "      <th>0</th>\n",
       "      <td>acquired immuno-deficiency syndrome</td>\n",
       "      <td>0.0</td>\n",
       "      <td>0.0</td>\n",
       "      <td>0.0</td>\n",
       "      <td>0.0</td>\n",
       "      <td>0.0</td>\n",
       "      <td>0.0</td>\n",
       "      <td>0.0</td>\n",
       "      <td>0.0</td>\n",
       "      <td>0.0</td>\n",
       "      <td>...</td>\n",
       "      <td>0.0</td>\n",
       "      <td>0.0</td>\n",
       "      <td>0.0</td>\n",
       "      <td>0.0</td>\n",
       "      <td>0.0</td>\n",
       "      <td>0.0</td>\n",
       "      <td>0.0</td>\n",
       "      <td>0.0</td>\n",
       "      <td>0.0</td>\n",
       "      <td>0.0</td>\n",
       "    </tr>\n",
       "    <tr>\n",
       "      <th>1</th>\n",
       "      <td>adhesion</td>\n",
       "      <td>0.0</td>\n",
       "      <td>0.0</td>\n",
       "      <td>0.0</td>\n",
       "      <td>0.0</td>\n",
       "      <td>0.0</td>\n",
       "      <td>0.0</td>\n",
       "      <td>0.0</td>\n",
       "      <td>0.0</td>\n",
       "      <td>0.0</td>\n",
       "      <td>...</td>\n",
       "      <td>0.0</td>\n",
       "      <td>1.0</td>\n",
       "      <td>0.0</td>\n",
       "      <td>0.0</td>\n",
       "      <td>0.0</td>\n",
       "      <td>0.0</td>\n",
       "      <td>0.0</td>\n",
       "      <td>0.0</td>\n",
       "      <td>0.0</td>\n",
       "      <td>0.0</td>\n",
       "    </tr>\n",
       "    <tr>\n",
       "      <th>2</th>\n",
       "      <td>affect labile</td>\n",
       "      <td>0.0</td>\n",
       "      <td>0.0</td>\n",
       "      <td>0.0</td>\n",
       "      <td>0.0</td>\n",
       "      <td>0.0</td>\n",
       "      <td>0.0</td>\n",
       "      <td>0.0</td>\n",
       "      <td>0.0</td>\n",
       "      <td>0.0</td>\n",
       "      <td>...</td>\n",
       "      <td>0.0</td>\n",
       "      <td>0.0</td>\n",
       "      <td>0.0</td>\n",
       "      <td>0.0</td>\n",
       "      <td>0.0</td>\n",
       "      <td>0.0</td>\n",
       "      <td>0.0</td>\n",
       "      <td>0.0</td>\n",
       "      <td>0.0</td>\n",
       "      <td>0.0</td>\n",
       "    </tr>\n",
       "    <tr>\n",
       "      <th>3</th>\n",
       "      <td>Alzheimer's disease</td>\n",
       "      <td>0.0</td>\n",
       "      <td>0.0</td>\n",
       "      <td>0.0</td>\n",
       "      <td>0.0</td>\n",
       "      <td>0.0</td>\n",
       "      <td>0.0</td>\n",
       "      <td>0.0</td>\n",
       "      <td>1.0</td>\n",
       "      <td>0.0</td>\n",
       "      <td>...</td>\n",
       "      <td>0.0</td>\n",
       "      <td>0.0</td>\n",
       "      <td>0.0</td>\n",
       "      <td>0.0</td>\n",
       "      <td>0.0</td>\n",
       "      <td>1.0</td>\n",
       "      <td>0.0</td>\n",
       "      <td>0.0</td>\n",
       "      <td>0.0</td>\n",
       "      <td>0.0</td>\n",
       "    </tr>\n",
       "    <tr>\n",
       "      <th>4</th>\n",
       "      <td>anemia</td>\n",
       "      <td>0.0</td>\n",
       "      <td>0.0</td>\n",
       "      <td>0.0</td>\n",
       "      <td>0.0</td>\n",
       "      <td>0.0</td>\n",
       "      <td>0.0</td>\n",
       "      <td>0.0</td>\n",
       "      <td>0.0</td>\n",
       "      <td>0.0</td>\n",
       "      <td>...</td>\n",
       "      <td>0.0</td>\n",
       "      <td>0.0</td>\n",
       "      <td>0.0</td>\n",
       "      <td>0.0</td>\n",
       "      <td>0.0</td>\n",
       "      <td>0.0</td>\n",
       "      <td>0.0</td>\n",
       "      <td>0.0</td>\n",
       "      <td>0.0</td>\n",
       "      <td>0.0</td>\n",
       "    </tr>\n",
       "  </tbody>\n",
       "</table>\n",
       "<p>5 rows × 317 columns</p>\n",
       "</div>"
      ],
      "text/plain": [
       "                               disease  abdomen acute  abdominal tenderness  \\\n",
       "0  acquired immuno-deficiency syndrome            0.0                   0.0   \n",
       "1                             adhesion            0.0                   0.0   \n",
       "2                        affect labile            0.0                   0.0   \n",
       "3                  Alzheimer's disease            0.0                   0.0   \n",
       "4                               anemia            0.0                   0.0   \n",
       "\n",
       "   abnormally hard consistency  abortion  abscess bacterial  absences finding  \\\n",
       "0                          0.0       0.0                0.0               0.0   \n",
       "1                          0.0       0.0                0.0               0.0   \n",
       "2                          0.0       0.0                0.0               0.0   \n",
       "3                          0.0       0.0                0.0               0.0   \n",
       "4                          0.0       0.0                0.0               0.0   \n",
       "\n",
       "   achalasia  agitation  air fluid level  ...  vision blurred  vomiting  \\\n",
       "0        0.0        0.0              0.0  ...             0.0       0.0   \n",
       "1        0.0        0.0              0.0  ...             0.0       1.0   \n",
       "2        0.0        0.0              0.0  ...             0.0       0.0   \n",
       "3        0.0        1.0              0.0  ...             0.0       0.0   \n",
       "4        0.0        0.0              0.0  ...             0.0       0.0   \n",
       "\n",
       "   weepiness  weight gain  welt  wheelchair bound  wheezing  withdraw  worry  \\\n",
       "0        0.0          0.0   0.0               0.0       0.0       0.0    0.0   \n",
       "1        0.0          0.0   0.0               0.0       0.0       0.0    0.0   \n",
       "2        0.0          0.0   0.0               0.0       0.0       0.0    0.0   \n",
       "3        0.0          0.0   0.0               1.0       0.0       0.0    0.0   \n",
       "4        0.0          0.0   0.0               0.0       0.0       0.0    0.0   \n",
       "\n",
       "   yellow sputum  \n",
       "0            0.0  \n",
       "1            0.0  \n",
       "2            0.0  \n",
       "3            0.0  \n",
       "4            0.0  \n",
       "\n",
       "[5 rows x 317 columns]"
      ]
     },
     "execution_count": 109,
     "metadata": {},
     "output_type": "execute_result"
    }
   ],
   "source": [
    "print (data.shape)\n",
    "data = data.fillna(0)\n",
    "data.head(5)\n"
   ]
  },
  {
   "cell_type": "code",
   "execution_count": 110,
   "metadata": {},
   "outputs": [
    {
     "name": "stdout",
     "output_type": "stream",
     "text": [
      "<class 'pandas.core.frame.DataFrame'>\n",
      "RangeIndex: 65 entries, 0 to 64\n",
      "Columns: 317 entries, disease to yellow sputum\n",
      "dtypes: float64(316), object(1)\n",
      "memory usage: 161.1+ KB\n",
      "None\n"
     ]
    }
   ],
   "source": [
    "print (data.info())"
   ]
  },
  {
   "cell_type": "code",
   "execution_count": 111,
   "metadata": {},
   "outputs": [],
   "source": [
    "cols = data.columns.tolist()\n",
    "cols.remove('disease')\n",
    "x = data[cols]\n",
    "y = data.disease"
   ]
  },
  {
   "cell_type": "code",
   "execution_count": 112,
   "metadata": {},
   "outputs": [],
   "source": [
    "x_train, x_test, y_train, y_test = train_test_split(x, y, test_size=0.33, random_state=42)"
   ]
  },
  {
   "cell_type": "code",
   "execution_count": 113,
   "metadata": {},
   "outputs": [],
   "source": [
    "mnb = MultinomialNB()\n",
    "mnb = mnb.fit(x_train, y_train)"
   ]
  },
  {
   "cell_type": "code",
   "execution_count": 114,
   "metadata": {},
   "outputs": [
    {
     "data": {
      "text/plain": [
       "0.0"
      ]
     },
     "execution_count": 114,
     "metadata": {},
     "output_type": "execute_result"
    }
   ],
   "source": [
    "mnb.score(x_test, y_test)"
   ]
  },
  {
   "cell_type": "code",
   "execution_count": 115,
   "metadata": {},
   "outputs": [],
   "source": [
    "mnb_tot = MultinomialNB()\n",
    "mnb_tot = mnb_tot.fit(x, y)"
   ]
  },
  {
   "cell_type": "code",
   "execution_count": 116,
   "metadata": {},
   "outputs": [
    {
     "data": {
      "text/plain": [
       "0.9846153846153847"
      ]
     },
     "execution_count": 116,
     "metadata": {},
     "output_type": "execute_result"
    }
   ],
   "source": [
    "mnb_tot.score(x, y)"
   ]
  },
  {
   "cell_type": "code",
   "execution_count": 117,
   "metadata": {},
   "outputs": [],
   "source": [
    "disease_pred = mnb_tot.predict(x)"
   ]
  },
  {
   "cell_type": "code",
   "execution_count": 118,
   "metadata": {},
   "outputs": [],
   "source": [
    "disease_real = y.values\n"
   ]
  },
  {
   "cell_type": "code",
   "execution_count": 119,
   "metadata": {},
   "outputs": [
    {
     "name": "stdout",
     "output_type": "stream",
     "text": [
      "Pred: acquired immuno-deficiency syndrome \t Really:acquired immuno-deficiency syndrome\n",
      "Pred: adhesion \t Really:adhesion\n",
      "Pred: affect labile \t Really:affect labile\n",
      "Pred: Alzheimer's disease \t Really:Alzheimer's disease\n",
      "Pred: anemia \t Really:anemia\n",
      "Pred: aphasia \t Really:aphasia\n",
      "Pred: asthma \t Really:asthma\n",
      "Pred: biliary calculus \t Really:biliary calculus\n",
      "Pred: bipolar disorder \t Really:bipolar disorder\n",
      "Pred: carcinoma prostate \t Really:carcinoma prostate\n",
      "Pred: cholecystitis \t Really:cholecystitis\n",
      "Pred: chronic alcoholic intoxication \t Really:chronic alcoholic intoxication\n",
      "Pred: chronic kidney failure \t Really:chronic kidney failure\n",
      "Pred: chronic obstructive airway disease \t Really:chronic obstructive airway disease\n",
      "Pred: coronary arteriosclerosis \t Really:coronary arteriosclerosis\n",
      "Pred: decubitus ulcer \t Really:decubitus ulcer\n",
      "Pred: degenerative polyarthritis \t Really:degenerative polyarthritis\n",
      "Pred: deglutition disorder \t Really:deglutition disorder\n",
      "Pred: dehydration \t Really:dehydration\n",
      "Pred: depressive disorder \t Really:depressive disorder\n",
      "Pred: diverticulosis \t Really:diverticulosis\n",
      "Pred: embolism pulmonary \t Really:embolism pulmonary\n",
      "Pred: encephalopathy \t Really:encephalopathy\n",
      "Pred: endocarditis \t Really:endocarditis\n",
      "Pred: epilepsy \t Really:epilepsy\n",
      "Pred: failure heart \t Really:failure heart\n",
      "Pred: failure kidney \t Really:failure kidney\n",
      "Pred: fibroid tumor \t Really:fibroid tumor\n",
      "Pred: gastritis \t Really:gastritis\n",
      "Pred: gout \t Really:gout\n",
      "Pred: hepatitis \t Really:hepatitis\n",
      "Pred: hernia hiatal \t Really:hernia hiatal\n",
      "Pred: hyperbilirubinemia \t Really:hyperbilirubinemia\n",
      "Pred: hypercholesterolemia \t Really:hypercholesterolemia\n",
      "Pred: hyperglycemia \t Really:hyperglycemia\n",
      "Pred: hypothyroidism \t Really:hypothyroidism\n",
      "Pred: ileus \t Really:ileus\n",
      "Pred: incontinence \t Really:incontinence\n",
      "Pred: infection urinary tract \t Really:infection urinary tract\n",
      "Pred: influenza \t Really:influenza\n",
      "Pred: insufficiency renal \t Really:insufficiency renal\n",
      "Pred: lymphoma \t Really:lymphoma\n",
      "Pred: malignant neoplasm of breast \t Really:malignant neoplasm of breast\n",
      "Pred: malignant tumor of colon \t Really:malignant tumor of colon\n",
      "Pred: myocardial infarction \t Really:myocardial infarction\n",
      "Pred: neoplasm \t Really:neoplasm\n",
      "Pred: neoplasm metastasis \t Really:neoplasm metastasis\n",
      "Pred: obesity \t Really:obesity\n",
      "Pred: obesity morbid \t Really:obesity morbid\n",
      "Pred: osteoporosis \t Really:osteoporosis\n",
      "Pred: paranoia \t Really:paranoia\n",
      "Pred: paroxysmal dyspnea \t Really:paroxysmal dyspnea\n",
      "Pred: pericardial effusion body substance \t Really:pericardial effusion body substance\n",
      "Pred: primary malignant neoplasm \t Really:primary malignant neoplasm\n",
      "Pred: psychotic disorder \t Really:psychotic disorder\n",
      "Pred: respiratory failure \t Really:respiratory failure\n",
      "Pred: schizophrenia \t Really:schizophrenia\n",
      "Pred: sepsis (invertebrate) \t Really:sepsis (invertebrate)\n",
      "Pred: sickle cell anemia \t Really:sickle cell anemia\n",
      "Pred: tachycardia sinus \t Really:tachycardia sinus\n",
      "Pred: thrombus \t Really:thrombus\n",
      "Pred: tonic-clonic epilepsy \t Really:tonic-clonic epilepsy\n",
      "Pred: transient ischemic attack \t Really:transient ischemic attack\n",
      "Pred: tricuspid valve insufficiency \t Really:tricuspid valve insufficiency\n"
     ]
    }
   ],
   "source": [
    "for i in range(0, len(disease_real)):\n",
    "    if disease_pred[i]==disease_real[i]:\n",
    "        print ('Pred: {0} \\t Really:{1}'.format(disease_pred[i], disease_real[i]))"
   ]
  },
  {
   "cell_type": "code",
   "execution_count": null,
   "metadata": {},
   "outputs": [],
   "source": []
  }
 ],
 "metadata": {
  "kernelspec": {
   "display_name": "Python 3",
   "language": "python",
   "name": "python3"
  },
  "language_info": {
   "codemirror_mode": {
    "name": "ipython",
    "version": 3
   },
   "file_extension": ".py",
   "mimetype": "text/x-python",
   "name": "python",
   "nbconvert_exporter": "python",
   "pygments_lexer": "ipython3",
   "version": "3.7.2+"
  }
 },
 "nbformat": 4,
 "nbformat_minor": 2
}
